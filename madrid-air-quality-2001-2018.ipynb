{
 "cells": [
  {
   "cell_type": "markdown",
   "metadata": {},
   "source": [
    "### In this notebook we will analyze Madrid's air quality in 2001-2018. The dataset used here can be found from [Kaggle](https://www.kaggle.com/decide-soluciones/air-quality-madrid). Follow the instructions in README.md how to load the data to the BigQuery. "
   ]
  },
  {
   "cell_type": "markdown",
   "metadata": {},
   "source": [
    "#### Here we have chosen the columns NO_2 and O_3 for our inspection, mainly because they have the most amount of non-null values in the dataset. We will start by making a query in order to have a suitable DataFrame for our purposes. If you look at the data more carefully you'll notice that there are lots of null values and hence average seems to be more suitable metric than, for instance, summing."
   ]
  },
  {
   "cell_type": "code",
   "execution_count": 2,
   "metadata": {},
   "outputs": [],
   "source": [
    "%%bq query -n monthlyaverages\n",
    "SELECT EXTRACT(YEAR FROM date) as year, EXTRACT(MONTH FROM date) as month, AVG(NO_2) as average_NO2, AVG(O_3) as average_O3\n",
    "FROM `madrid_pollution_dataset.madrid20*` WHERE NO_2 > 0 AND O_3 > 0\n",
    "GROUP BY year, month\n",
    "ORDER BY year ASC, month ASC"
   ]
  },
  {
   "cell_type": "code",
   "execution_count": 3,
   "metadata": {},
   "outputs": [],
   "source": [
    "# We'll make a corresponding dataframe from the table.\n",
    "monthlyaverages_df = monthlyaverages.execute().result().to_dataframe()"
   ]
  },
  {
   "cell_type": "code",
   "execution_count": 4,
   "metadata": {},
   "outputs": [
    {
     "name": "stdout",
     "output_type": "stream",
     "text": [
      "<class 'pandas.core.frame.DataFrame'>\n",
      "RangeIndex: 209 entries, 0 to 208\n",
      "Data columns (total 4 columns):\n",
      "year           209 non-null int64\n",
      "month          209 non-null int64\n",
      "average_NO2    209 non-null float64\n",
      "average_O3     209 non-null float64\n",
      "dtypes: float64(2), int64(2)\n",
      "memory usage: 6.6 KB\n"
     ]
    }
   ],
   "source": [
    "monthlyaverages_df.info()"
   ]
  },
  {
   "cell_type": "code",
   "execution_count": 5,
   "metadata": {},
   "outputs": [
    {
     "data": {
      "text/html": [
       "<div>\n",
       "<style scoped>\n",
       "    .dataframe tbody tr th:only-of-type {\n",
       "        vertical-align: middle;\n",
       "    }\n",
       "\n",
       "    .dataframe tbody tr th {\n",
       "        vertical-align: top;\n",
       "    }\n",
       "\n",
       "    .dataframe thead th {\n",
       "        text-align: right;\n",
       "    }\n",
       "</style>\n",
       "<table border=\"1\" class=\"dataframe\">\n",
       "  <thead>\n",
       "    <tr style=\"text-align: right;\">\n",
       "      <th></th>\n",
       "      <th>year</th>\n",
       "      <th>month</th>\n",
       "      <th>average_NO2</th>\n",
       "      <th>average_O3</th>\n",
       "    </tr>\n",
       "  </thead>\n",
       "  <tbody>\n",
       "    <tr>\n",
       "      <th>0</th>\n",
       "      <td>2001</td>\n",
       "      <td>1</td>\n",
       "      <td>57.059209</td>\n",
       "      <td>19.510678</td>\n",
       "    </tr>\n",
       "    <tr>\n",
       "      <th>1</th>\n",
       "      <td>2001</td>\n",
       "      <td>2</td>\n",
       "      <td>64.687358</td>\n",
       "      <td>20.526322</td>\n",
       "    </tr>\n",
       "    <tr>\n",
       "      <th>2</th>\n",
       "      <td>2001</td>\n",
       "      <td>3</td>\n",
       "      <td>49.467090</td>\n",
       "      <td>29.016779</td>\n",
       "    </tr>\n",
       "    <tr>\n",
       "      <th>3</th>\n",
       "      <td>2001</td>\n",
       "      <td>4</td>\n",
       "      <td>53.114233</td>\n",
       "      <td>40.435008</td>\n",
       "    </tr>\n",
       "    <tr>\n",
       "      <th>4</th>\n",
       "      <td>2001</td>\n",
       "      <td>5</td>\n",
       "      <td>64.071691</td>\n",
       "      <td>41.059053</td>\n",
       "    </tr>\n",
       "    <tr>\n",
       "      <th>5</th>\n",
       "      <td>2001</td>\n",
       "      <td>6</td>\n",
       "      <td>67.470436</td>\n",
       "      <td>46.036578</td>\n",
       "    </tr>\n",
       "    <tr>\n",
       "      <th>6</th>\n",
       "      <td>2001</td>\n",
       "      <td>7</td>\n",
       "      <td>61.667491</td>\n",
       "      <td>47.136723</td>\n",
       "    </tr>\n",
       "    <tr>\n",
       "      <th>7</th>\n",
       "      <td>2001</td>\n",
       "      <td>8</td>\n",
       "      <td>55.726541</td>\n",
       "      <td>47.087956</td>\n",
       "    </tr>\n",
       "    <tr>\n",
       "      <th>8</th>\n",
       "      <td>2001</td>\n",
       "      <td>9</td>\n",
       "      <td>65.255108</td>\n",
       "      <td>38.864413</td>\n",
       "    </tr>\n",
       "    <tr>\n",
       "      <th>9</th>\n",
       "      <td>2001</td>\n",
       "      <td>10</td>\n",
       "      <td>59.146116</td>\n",
       "      <td>22.178610</td>\n",
       "    </tr>\n",
       "    <tr>\n",
       "      <th>10</th>\n",
       "      <td>2001</td>\n",
       "      <td>11</td>\n",
       "      <td>68.712535</td>\n",
       "      <td>19.460738</td>\n",
       "    </tr>\n",
       "    <tr>\n",
       "      <th>11</th>\n",
       "      <td>2001</td>\n",
       "      <td>12</td>\n",
       "      <td>88.819651</td>\n",
       "      <td>9.363913</td>\n",
       "    </tr>\n",
       "    <tr>\n",
       "      <th>12</th>\n",
       "      <td>2002</td>\n",
       "      <td>1</td>\n",
       "      <td>73.929775</td>\n",
       "      <td>11.370346</td>\n",
       "    </tr>\n",
       "    <tr>\n",
       "      <th>13</th>\n",
       "      <td>2002</td>\n",
       "      <td>2</td>\n",
       "      <td>69.752003</td>\n",
       "      <td>19.125745</td>\n",
       "    </tr>\n",
       "    <tr>\n",
       "      <th>14</th>\n",
       "      <td>2002</td>\n",
       "      <td>3</td>\n",
       "      <td>65.428673</td>\n",
       "      <td>31.328923</td>\n",
       "    </tr>\n",
       "    <tr>\n",
       "      <th>15</th>\n",
       "      <td>2002</td>\n",
       "      <td>4</td>\n",
       "      <td>68.939206</td>\n",
       "      <td>42.832532</td>\n",
       "    </tr>\n",
       "    <tr>\n",
       "      <th>16</th>\n",
       "      <td>2002</td>\n",
       "      <td>5</td>\n",
       "      <td>53.061909</td>\n",
       "      <td>45.188594</td>\n",
       "    </tr>\n",
       "    <tr>\n",
       "      <th>17</th>\n",
       "      <td>2002</td>\n",
       "      <td>6</td>\n",
       "      <td>56.854245</td>\n",
       "      <td>48.632929</td>\n",
       "    </tr>\n",
       "    <tr>\n",
       "      <th>18</th>\n",
       "      <td>2002</td>\n",
       "      <td>7</td>\n",
       "      <td>55.779089</td>\n",
       "      <td>52.143932</td>\n",
       "    </tr>\n",
       "    <tr>\n",
       "      <th>19</th>\n",
       "      <td>2002</td>\n",
       "      <td>8</td>\n",
       "      <td>52.534378</td>\n",
       "      <td>50.509182</td>\n",
       "    </tr>\n",
       "  </tbody>\n",
       "</table>\n",
       "</div>"
      ],
      "text/plain": [
       "    year  month  average_NO2  average_O3\n",
       "0   2001      1    57.059209   19.510678\n",
       "1   2001      2    64.687358   20.526322\n",
       "2   2001      3    49.467090   29.016779\n",
       "3   2001      4    53.114233   40.435008\n",
       "4   2001      5    64.071691   41.059053\n",
       "5   2001      6    67.470436   46.036578\n",
       "6   2001      7    61.667491   47.136723\n",
       "7   2001      8    55.726541   47.087956\n",
       "8   2001      9    65.255108   38.864413\n",
       "9   2001     10    59.146116   22.178610\n",
       "10  2001     11    68.712535   19.460738\n",
       "11  2001     12    88.819651    9.363913\n",
       "12  2002      1    73.929775   11.370346\n",
       "13  2002      2    69.752003   19.125745\n",
       "14  2002      3    65.428673   31.328923\n",
       "15  2002      4    68.939206   42.832532\n",
       "16  2002      5    53.061909   45.188594\n",
       "17  2002      6    56.854245   48.632929\n",
       "18  2002      7    55.779089   52.143932\n",
       "19  2002      8    52.534378   50.509182"
      ]
     },
     "execution_count": 5,
     "metadata": {},
     "output_type": "execute_result"
    }
   ],
   "source": [
    "monthlyaverages_df.head(20)"
   ]
  },
  {
   "cell_type": "code",
   "execution_count": 6,
   "metadata": {},
   "outputs": [
    {
     "data": {
      "text/html": [
       "<div>\n",
       "<style scoped>\n",
       "    .dataframe tbody tr th:only-of-type {\n",
       "        vertical-align: middle;\n",
       "    }\n",
       "\n",
       "    .dataframe tbody tr th {\n",
       "        vertical-align: top;\n",
       "    }\n",
       "\n",
       "    .dataframe thead th {\n",
       "        text-align: right;\n",
       "    }\n",
       "</style>\n",
       "<table border=\"1\" class=\"dataframe\">\n",
       "  <thead>\n",
       "    <tr style=\"text-align: right;\">\n",
       "      <th></th>\n",
       "      <th>year</th>\n",
       "      <th>month</th>\n",
       "      <th>average_NO2</th>\n",
       "      <th>average_O3</th>\n",
       "    </tr>\n",
       "  </thead>\n",
       "  <tbody>\n",
       "    <tr>\n",
       "      <th>189</th>\n",
       "      <td>2016</td>\n",
       "      <td>10</td>\n",
       "      <td>47.482809</td>\n",
       "      <td>32.531898</td>\n",
       "    </tr>\n",
       "    <tr>\n",
       "      <th>190</th>\n",
       "      <td>2016</td>\n",
       "      <td>11</td>\n",
       "      <td>47.141026</td>\n",
       "      <td>24.240046</td>\n",
       "    </tr>\n",
       "    <tr>\n",
       "      <th>191</th>\n",
       "      <td>2016</td>\n",
       "      <td>12</td>\n",
       "      <td>53.788289</td>\n",
       "      <td>18.777135</td>\n",
       "    </tr>\n",
       "    <tr>\n",
       "      <th>192</th>\n",
       "      <td>2017</td>\n",
       "      <td>1</td>\n",
       "      <td>51.347225</td>\n",
       "      <td>25.879388</td>\n",
       "    </tr>\n",
       "    <tr>\n",
       "      <th>193</th>\n",
       "      <td>2017</td>\n",
       "      <td>2</td>\n",
       "      <td>40.896492</td>\n",
       "      <td>36.998709</td>\n",
       "    </tr>\n",
       "    <tr>\n",
       "      <th>194</th>\n",
       "      <td>2017</td>\n",
       "      <td>3</td>\n",
       "      <td>39.332174</td>\n",
       "      <td>48.520429</td>\n",
       "    </tr>\n",
       "    <tr>\n",
       "      <th>195</th>\n",
       "      <td>2017</td>\n",
       "      <td>4</td>\n",
       "      <td>29.362961</td>\n",
       "      <td>68.834689</td>\n",
       "    </tr>\n",
       "    <tr>\n",
       "      <th>196</th>\n",
       "      <td>2017</td>\n",
       "      <td>5</td>\n",
       "      <td>28.976015</td>\n",
       "      <td>66.888627</td>\n",
       "    </tr>\n",
       "    <tr>\n",
       "      <th>197</th>\n",
       "      <td>2017</td>\n",
       "      <td>6</td>\n",
       "      <td>29.625292</td>\n",
       "      <td>72.321381</td>\n",
       "    </tr>\n",
       "    <tr>\n",
       "      <th>198</th>\n",
       "      <td>2017</td>\n",
       "      <td>7</td>\n",
       "      <td>32.115009</td>\n",
       "      <td>64.605876</td>\n",
       "    </tr>\n",
       "    <tr>\n",
       "      <th>199</th>\n",
       "      <td>2017</td>\n",
       "      <td>8</td>\n",
       "      <td>27.548469</td>\n",
       "      <td>65.723772</td>\n",
       "    </tr>\n",
       "    <tr>\n",
       "      <th>200</th>\n",
       "      <td>2017</td>\n",
       "      <td>9</td>\n",
       "      <td>39.278279</td>\n",
       "      <td>51.736963</td>\n",
       "    </tr>\n",
       "    <tr>\n",
       "      <th>201</th>\n",
       "      <td>2017</td>\n",
       "      <td>10</td>\n",
       "      <td>52.299952</td>\n",
       "      <td>33.581483</td>\n",
       "    </tr>\n",
       "    <tr>\n",
       "      <th>202</th>\n",
       "      <td>2017</td>\n",
       "      <td>11</td>\n",
       "      <td>61.162321</td>\n",
       "      <td>21.469184</td>\n",
       "    </tr>\n",
       "    <tr>\n",
       "      <th>203</th>\n",
       "      <td>2017</td>\n",
       "      <td>12</td>\n",
       "      <td>51.775244</td>\n",
       "      <td>23.301575</td>\n",
       "    </tr>\n",
       "    <tr>\n",
       "      <th>204</th>\n",
       "      <td>2018</td>\n",
       "      <td>1</td>\n",
       "      <td>46.938564</td>\n",
       "      <td>25.480940</td>\n",
       "    </tr>\n",
       "    <tr>\n",
       "      <th>205</th>\n",
       "      <td>2018</td>\n",
       "      <td>2</td>\n",
       "      <td>44.307545</td>\n",
       "      <td>35.534415</td>\n",
       "    </tr>\n",
       "    <tr>\n",
       "      <th>206</th>\n",
       "      <td>2018</td>\n",
       "      <td>3</td>\n",
       "      <td>27.876896</td>\n",
       "      <td>58.969272</td>\n",
       "    </tr>\n",
       "    <tr>\n",
       "      <th>207</th>\n",
       "      <td>2018</td>\n",
       "      <td>4</td>\n",
       "      <td>29.527119</td>\n",
       "      <td>59.165227</td>\n",
       "    </tr>\n",
       "    <tr>\n",
       "      <th>208</th>\n",
       "      <td>2018</td>\n",
       "      <td>5</td>\n",
       "      <td>27.785714</td>\n",
       "      <td>56.357143</td>\n",
       "    </tr>\n",
       "  </tbody>\n",
       "</table>\n",
       "</div>"
      ],
      "text/plain": [
       "     year  month  average_NO2  average_O3\n",
       "189  2016     10    47.482809   32.531898\n",
       "190  2016     11    47.141026   24.240046\n",
       "191  2016     12    53.788289   18.777135\n",
       "192  2017      1    51.347225   25.879388\n",
       "193  2017      2    40.896492   36.998709\n",
       "194  2017      3    39.332174   48.520429\n",
       "195  2017      4    29.362961   68.834689\n",
       "196  2017      5    28.976015   66.888627\n",
       "197  2017      6    29.625292   72.321381\n",
       "198  2017      7    32.115009   64.605876\n",
       "199  2017      8    27.548469   65.723772\n",
       "200  2017      9    39.278279   51.736963\n",
       "201  2017     10    52.299952   33.581483\n",
       "202  2017     11    61.162321   21.469184\n",
       "203  2017     12    51.775244   23.301575\n",
       "204  2018      1    46.938564   25.480940\n",
       "205  2018      2    44.307545   35.534415\n",
       "206  2018      3    27.876896   58.969272\n",
       "207  2018      4    29.527119   59.165227\n",
       "208  2018      5    27.785714   56.357143"
      ]
     },
     "execution_count": 6,
     "metadata": {},
     "output_type": "execute_result"
    }
   ],
   "source": [
    "monthlyaverages_df.tail(20)"
   ]
  },
  {
   "cell_type": "markdown",
   "metadata": {},
   "source": [
    "#### Our dataframe seems to be as we wanted. Let's update the library seaborn to its newest version just in case."
   ]
  },
  {
   "cell_type": "code",
   "execution_count": 7,
   "metadata": {},
   "outputs": [
    {
     "name": "stdout",
     "output_type": "stream",
     "text": [
      "Solving environment: done\n",
      "\n",
      "\n",
      "==> WARNING: A newer version of conda exists. <==\n",
      "  current version: 4.5.10\n",
      "  latest version: 4.5.11\n",
      "\n",
      "Please update conda by running\n",
      "\n",
      "    $ conda update -n base -c defaults conda\n",
      "\n",
      "\n",
      "\n",
      "# All requested packages already installed.\n",
      "\n"
     ]
    }
   ],
   "source": [
    "!conda update -y seaborn"
   ]
  },
  {
   "cell_type": "markdown",
   "metadata": {},
   "source": [
    "#### Let us examine the monthly averages of NO_2 and O_3 from years 2001, 2009 and 2017."
   ]
  },
  {
   "cell_type": "code",
   "execution_count": 25,
   "metadata": {},
   "outputs": [
    {
     "data": {
      "text/plain": [
       "<matplotlib.axes._subplots.AxesSubplot at 0x7fe351b5db00>"
      ]
     },
     "execution_count": 25,
     "metadata": {},
     "output_type": "execute_result"
    },
    {
     "data": {
      "image/png": "[encoded data removed]",
      "text/plain": [
       "<Figure size 1080x360 with 1 Axes>"
      ]
     },
     "metadata": {},
     "output_type": "display_data"
    }
   ],
   "source": [
    "import seaborn as sns\n",
    "import matplotlib.pyplot as plt\n",
    "%matplotlib inline\n",
    "\n",
    "plt.figure(figsize=(15,5))\n",
    "sns.lineplot(x='month', y='average_NO2', hue='year', legend=\"full\",\n",
    "data=monthlyaverages_df[(monthlyaverages_df.year==2001) | (monthlyaverages_df.year==2009) | (monthlyaverages_df.year==2017)])"
   ]
  },
  {
   "cell_type": "code",
   "execution_count": 26,
   "metadata": {},
   "outputs": [
    {
     "data": {
      "text/plain": [
       "<matplotlib.axes._subplots.AxesSubplot at 0x7fe351b190b8>"
      ]
     },
     "execution_count": 26,
     "metadata": {},
     "output_type": "execute_result"
    },
    {
     "data": {
      "image/png": "[encoded data removed]",
      "text/plain": [
       "<Figure size 1080x360 with 1 Axes>"
      ]
     },
     "metadata": {},
     "output_type": "display_data"
    }
   ],
   "source": [
    "import seaborn as sns\n",
    "import matplotlib.pyplot as plt\n",
    "%matplotlib inline\n",
    "\n",
    "plt.figure(figsize=(15,5))\n",
    "sns.lineplot(x='month', y='average_O3', hue='year', legend=\"full\", \n",
    "data=monthlyaverages_df[(monthlyaverages_df.year==2001) | (monthlyaverages_df.year==2009) | (monthlyaverages_df.year==2017)])"
   ]
  },
  {
   "cell_type": "markdown",
   "metadata": {},
   "source": [
    "#### The averages by month of the selected years seem to obey pretty much the same yearly trend, only levels differ year by year."
   ]
  },
  {
   "cell_type": "markdown",
   "metadata": {},
   "source": [
    "#### Let's take a look at the yearly averages through the whole timescale 2001-2018. "
   ]
  },
  {
   "cell_type": "code",
   "execution_count": 36,
   "metadata": {},
   "outputs": [],
   "source": [
    "%%bq query -n yearlyaverages\n",
    "SELECT EXTRACT(YEAR FROM date) as year, AVG(NO_2) as avg_NO2, AVG(O_3) as avg_O3\n",
    "FROM `madrid_pollution_dataset.madrid20*` WHERE NO_2 > 0 AND O_3 > 0\n",
    "GROUP BY year\n",
    "ORDER BY year ASC"
   ]
  },
  {
   "cell_type": "code",
   "execution_count": 37,
   "metadata": {},
   "outputs": [],
   "source": [
    "yearlyaverages_df = yearlyaverages.execute().result().to_dataframe()"
   ]
  },
  {
   "cell_type": "code",
   "execution_count": 38,
   "metadata": {},
   "outputs": [
    {
     "name": "stdout",
     "output_type": "stream",
     "text": [
      "<class 'pandas.core.frame.DataFrame'>\n",
      "RangeIndex: 18 entries, 0 to 17\n",
      "Data columns (total 3 columns):\n",
      "year       18 non-null int64\n",
      "avg_NO2    18 non-null float64\n",
      "avg_O3     18 non-null float64\n",
      "dtypes: float64(2), int64(1)\n",
      "memory usage: 512.0 bytes\n"
     ]
    }
   ],
   "source": [
    "yearlyaverages_df.info()"
   ]
  },
  {
   "cell_type": "code",
   "execution_count": 39,
   "metadata": {},
   "outputs": [
    {
     "data": {
      "text/html": [
       "<div>\n",
       "<style scoped>\n",
       "    .dataframe tbody tr th:only-of-type {\n",
       "        vertical-align: middle;\n",
       "    }\n",
       "\n",
       "    .dataframe tbody tr th {\n",
       "        vertical-align: top;\n",
       "    }\n",
       "\n",
       "    .dataframe thead th {\n",
       "        text-align: right;\n",
       "    }\n",
       "</style>\n",
       "<table border=\"1\" class=\"dataframe\">\n",
       "  <thead>\n",
       "    <tr style=\"text-align: right;\">\n",
       "      <th></th>\n",
       "      <th>year</th>\n",
       "      <th>avg_NO2</th>\n",
       "      <th>avg_O3</th>\n",
       "    </tr>\n",
       "  </thead>\n",
       "  <tbody>\n",
       "    <tr>\n",
       "      <th>0</th>\n",
       "      <td>2001</td>\n",
       "      <td>62.942008</td>\n",
       "      <td>31.557711</td>\n",
       "    </tr>\n",
       "    <tr>\n",
       "      <th>1</th>\n",
       "      <td>2002</td>\n",
       "      <td>61.662381</td>\n",
       "      <td>32.930193</td>\n",
       "    </tr>\n",
       "    <tr>\n",
       "      <th>2</th>\n",
       "      <td>2003</td>\n",
       "      <td>58.490062</td>\n",
       "      <td>36.910125</td>\n",
       "    </tr>\n",
       "    <tr>\n",
       "      <th>3</th>\n",
       "      <td>2004</td>\n",
       "      <td>60.923437</td>\n",
       "      <td>33.144040</td>\n",
       "    </tr>\n",
       "    <tr>\n",
       "      <th>4</th>\n",
       "      <td>2005</td>\n",
       "      <td>62.508801</td>\n",
       "      <td>34.635762</td>\n",
       "    </tr>\n",
       "    <tr>\n",
       "      <th>5</th>\n",
       "      <td>2006</td>\n",
       "      <td>61.263490</td>\n",
       "      <td>34.675375</td>\n",
       "    </tr>\n",
       "    <tr>\n",
       "      <th>6</th>\n",
       "      <td>2007</td>\n",
       "      <td>60.924553</td>\n",
       "      <td>34.450314</td>\n",
       "    </tr>\n",
       "    <tr>\n",
       "      <th>7</th>\n",
       "      <td>2008</td>\n",
       "      <td>55.878555</td>\n",
       "      <td>39.044208</td>\n",
       "    </tr>\n",
       "    <tr>\n",
       "      <th>8</th>\n",
       "      <td>2009</td>\n",
       "      <td>54.795150</td>\n",
       "      <td>44.710012</td>\n",
       "    </tr>\n",
       "    <tr>\n",
       "      <th>9</th>\n",
       "      <td>2010</td>\n",
       "      <td>41.893197</td>\n",
       "      <td>47.668850</td>\n",
       "    </tr>\n",
       "  </tbody>\n",
       "</table>\n",
       "</div>"
      ],
      "text/plain": [
       "   year    avg_NO2     avg_O3\n",
       "0  2001  62.942008  31.557711\n",
       "1  2002  61.662381  32.930193\n",
       "2  2003  58.490062  36.910125\n",
       "3  2004  60.923437  33.144040\n",
       "4  2005  62.508801  34.635762\n",
       "5  2006  61.263490  34.675375\n",
       "6  2007  60.924553  34.450314\n",
       "7  2008  55.878555  39.044208\n",
       "8  2009  54.795150  44.710012\n",
       "9  2010  41.893197  47.668850"
      ]
     },
     "execution_count": 39,
     "metadata": {},
     "output_type": "execute_result"
    }
   ],
   "source": [
    "yearlyaverages_df.head(10)"
   ]
  },
  {
   "cell_type": "code",
   "execution_count": 42,
   "metadata": {},
   "outputs": [
    {
     "data": {
      "text/plain": [
       "<matplotlib.axes._subplots.AxesSubplot at 0x7fe3519b8ac8>"
      ]
     },
     "execution_count": 42,
     "metadata": {},
     "output_type": "execute_result"
    },
    {
     "data": {
      "image/png": "[encoded data removed]",
      "text/plain": [
       "<Figure size 1080x360 with 1 Axes>"
      ]
     },
     "metadata": {},
     "output_type": "display_data"
    }
   ],
   "source": [
    "plt.figure(figsize=(15,5))\n",
    "sns.barplot(x='year', y='avg_NO2', data=yearlyaverages_df)"
   ]
  },
  {
   "cell_type": "code",
   "execution_count": 41,
   "metadata": {},
   "outputs": [
    {
     "data": {
      "text/plain": [
       "<matplotlib.axes._subplots.AxesSubplot at 0x7fe351afb518>"
      ]
     },
     "execution_count": 41,
     "metadata": {},
     "output_type": "execute_result"
    },
    {
     "data": {
      "image/png": "[encoded data removed]",
      "text/plain": [
       "<Figure size 1080x360 with 1 Axes>"
      ]
     },
     "metadata": {},
     "output_type": "display_data"
    }
   ],
   "source": [
    "plt.figure(figsize=(15,5))\n",
    "sns.barplot(x='year', y='avg_O3', data=yearlyaverages_df)"
   ]
  },
  {
   "cell_type": "markdown",
   "metadata": {},
   "source": [
    "#### These barcharts as well as the earlier visualizations clearly show that the NO_2 levels have been dropping and O_3 increasing. Unfortunately the schema of the data does not reveal whether the changes are significant or not. Better ask your climate expert friend about this!"
   ]
  },
  {
   "cell_type": "markdown",
   "metadata": {},
   "source": [
    "#### The data for year 2018 covers only the beginning of the year so let's model the NO_2 and O_3 levels until the end of 2018. Maybe we will get soon the data so that we can compare the predictions to real values."
   ]
  },
  {
   "cell_type": "code",
   "execution_count": null,
   "metadata": {},
   "outputs": [],
   "source": []
  }
 ],
 "metadata": {
  "kernelspec": {
   "display_name": "Python 3",
   "language": "python",
   "name": "python3"
  },
  "language_info": {
   "codemirror_mode": {
    "name": "ipython",
    "version": 3
   },
   "file_extension": ".py",
   "mimetype": "text/x-python",
   "name": "python",
   "nbconvert_exporter": "python",
   "pygments_lexer": "ipython3",
   "version": "3.5.5"
  }
 },
 "nbformat": 4,
 "nbformat_minor": 2
}
